{
  "nbformat": 4,
  "nbformat_minor": 0,
  "metadata": {
    "kernelspec": {
      "display_name": "Python 3",
      "language": "python",
      "name": "python3"
    },
    "language_info": {
      "codemirror_mode": {
        "name": "ipython",
        "version": 3
      },
      "file_extension": ".py",
      "mimetype": "text/x-python",
      "name": "python",
      "nbconvert_exporter": "python",
      "pygments_lexer": "ipython3",
      "version": "3.7.6"
    },
    "colab": {
      "name": "hove_kouevi_Quiz3.ipynb",
      "provenance": [],
      "include_colab_link": true
    }
  },
  "cells": [
    {
      "cell_type": "markdown",
      "metadata": {
        "id": "view-in-github",
        "colab_type": "text"
      },
      "source": [
        "<a href=\"https://colab.research.google.com/github/MichelMurwanashyaka/Michel/blob/master/hove_kouevi_Quiz3.ipynb\" target=\"_parent\"><img src=\"https://colab.research.google.com/assets/colab-badge.svg\" alt=\"Open In Colab\"/></a>"
      ]
    },
    {
      "cell_type": "code",
      "metadata": {
        "id": "HJFiEe-uH7aW",
        "outputId": "b37d7f89-edbc-4384-d5d7-e2afb62fa6c6",
        "colab": {
          "base_uri": "https://localhost:8080/",
          "height": 17
        }
      },
      "source": [
        "%%javascript\n",
        "MathJax.Hub.Config({\n",
        "    TeX: { equationNumbers: { autoNumber: \"AMS\" } }\n",
        "});"
      ],
      "execution_count": null,
      "outputs": [
        {
          "output_type": "display_data",
          "data": {
            "application/javascript": [
              "MathJax.Hub.Config({\n",
              "    TeX: { equationNumbers: { autoNumber: \"AMS\" } }\n",
              "});"
            ],
            "text/plain": [
              "<IPython.core.display.Javascript object>"
            ]
          },
          "metadata": {
            "tags": []
          }
        }
      ]
    },
    {
      "cell_type": "code",
      "metadata": {
        "id": "0ocO6R6MIrbz"
      },
      "source": [
        "import numpy as np\n"
      ],
      "execution_count": null,
      "outputs": []
    },
    {
      "cell_type": "markdown",
      "metadata": {
        "id": "BE-5c9ZPH7ag"
      },
      "source": [
        "# $$\\text{Exercise 1}$$\n",
        "1. Let us consider the array $M$ defined below"
      ]
    },
    {
      "cell_type": "code",
      "metadata": {
        "scrolled": true,
        "id": "Oe41nfHDH7ah",
        "outputId": "b02480f4-5e6c-420d-d8e2-cbff17da936c",
        "colab": {
          "base_uri": "https://localhost:8080/",
          "height": 34
        }
      },
      "source": [
        "import numpy as np\n",
        "M = np.array([[ 80842, 333008, 202553, 140037,  81969,  63857,  42105, 261540],\n",
        "       [481981, 176739, 489984, 326386, 110795, 394863,  25024,  38317],\n",
        "       [ 49982, 408830, 485118,  16119, 407675, 231729, 265455, 109413],\n",
        "       [103399, 174677, 343356, 301717, 224120, 401101, 140473, 254634],\n",
        "       [112262,  25063, 108262, 375059, 406983, 208947, 115641, 296685],\n",
        "       [444899, 129585, 171318, 313094, 425041, 188411, 335140, 141681],\n",
        "       [ 59641, 211420, 287650,   8973, 477425, 382803, 465168,   3975],\n",
        "       [ 32213, 160603, 275485, 388234, 246225,  56174, 244097,   9350],\n",
        "       [496966, 225516, 273338,  73335, 283013, 212813,  38175, 282399],\n",
        "       [318413, 337639, 379802, 198049, 101115, 419547, 260219, 325793],\n",
        "       [148593, 425024, 348570, 117968, 107007,  52547, 180346, 178760],\n",
        "       [305186, 262153,  11835, 449971, 494184, 472031, 353049, 476442],\n",
        "       [ 35455, 191553, 384154,  29917, 187599,  68912, 428968,  69638],\n",
        "       [ 20140, 220691, 163112,  47862, 474879,  15713, 279173, 161443],\n",
        "       [ 76851, 450401, 193338, 189948, 211826, 384657,  17636, 189954],\n",
        "       [182580, 403458,  63004,  87202,  17143, 308769, 316192, 408259],\n",
        "       [379223, 322891, 302814, 309594,  13650,  68095, 327748,  27138],\n",
        "       [ 33346, 202960, 221234,  61986,  96524, 230606, 266487, 299766],\n",
        "       [ 46264,  33510, 434647,  26750, 412754, 346058, 263454, 270444],\n",
        "       [182770, 486269, 402948, 105055, 463911, 378799, 329053,  16793],\n",
        "       [379586, 293162, 121602, 144605, 105553,  71148,  40126, 183534],\n",
        "       [493338,   5241, 498084, 189451, 219466,  12869, 482845,  16529],\n",
        "       [145955, 461866, 427009,  70841, 318111, 199631,  99330, 407887],\n",
        "       [133826, 214053, 295543, 339707, 199545, 194494, 304822, 337793],\n",
        "       [395524, 206326, 308488, 297633, 472409, 487606, 422244, 443487],\n",
        "       [464749,  75275, 299486, 248984,  76076, 197544,  75103, 394086],\n",
        "       [404365,  67309, 267556,  96483, 166099, 203867,  57120, 211249],\n",
        "       [ 86992, 286426, 130451, 419955, 109839, 332663, 101095,  50820],\n",
        "       [108699, 436141, 333670,  45890, 425798,   6967, 155851, 360687],\n",
        "       [252907, 121138,  81509, 367876, 471831, 226950, 349068, 197092]])\n",
        "M.shape\n"
      ],
      "execution_count": null,
      "outputs": [
        {
          "output_type": "execute_result",
          "data": {
            "text/plain": [
              "(30, 8)"
            ]
          },
          "metadata": {
            "tags": []
          },
          "execution_count": 18
        }
      ]
    },
    {
      "cell_type": "markdown",
      "metadata": {
        "id": "Njb5O6bKH7ap"
      },
      "source": [
        "1. What is the average value of the second and fourth columns?"
      ]
    },
    {
      "cell_type": "code",
      "metadata": {
        "id": "Xa8E_H38Qf2X",
        "outputId": "3b933a6b-7aa1-48bf-baf3-743e65a5c78e",
        "colab": {
          "base_uri": "https://localhost:8080/",
          "height": 538
        }
      },
      "source": [
        "M[:,1:4:2]"
      ],
      "execution_count": null,
      "outputs": [
        {
          "output_type": "execute_result",
          "data": {
            "text/plain": [
              "array([[333008, 140037],\n",
              "       [176739, 326386],\n",
              "       [408830,  16119],\n",
              "       [174677, 301717],\n",
              "       [ 25063, 375059],\n",
              "       [129585, 313094],\n",
              "       [211420,   8973],\n",
              "       [160603, 388234],\n",
              "       [225516,  73335],\n",
              "       [337639, 198049],\n",
              "       [425024, 117968],\n",
              "       [262153, 449971],\n",
              "       [191553,  29917],\n",
              "       [220691,  47862],\n",
              "       [450401, 189948],\n",
              "       [403458,  87202],\n",
              "       [322891, 309594],\n",
              "       [202960,  61986],\n",
              "       [ 33510,  26750],\n",
              "       [486269, 105055],\n",
              "       [293162, 144605],\n",
              "       [  5241, 189451],\n",
              "       [461866,  70841],\n",
              "       [214053, 339707],\n",
              "       [206326, 297633],\n",
              "       [ 75275, 248984],\n",
              "       [ 67309,  96483],\n",
              "       [286426, 419955],\n",
              "       [436141,  45890],\n",
              "       [121138, 367876]])"
            ]
          },
          "metadata": {
            "tags": []
          },
          "execution_count": 19
        }
      ]
    },
    {
      "cell_type": "code",
      "metadata": {
        "id": "tPmO9hiBH7aq",
        "outputId": "83d24e55-4f2e-4548-94dd-8113f9d888e0",
        "colab": {
          "base_uri": "https://localhost:8080/",
          "height": 34
        }
      },
      "source": [
        "np.average(M[:,1:4:2])"
      ],
      "execution_count": null,
      "outputs": [
        {
          "output_type": "execute_result",
          "data": {
            "text/plain": [
              "218960.13333333333"
            ]
          },
          "metadata": {
            "tags": []
          },
          "execution_count": 20
        }
      ]
    },
    {
      "cell_type": "markdown",
      "metadata": {
        "id": "colZRaMsH7aw"
      },
      "source": [
        "2. What is the average value of the last 5 rows of the second and fourth columns?"
      ]
    },
    {
      "cell_type": "code",
      "metadata": {
        "id": "nhIR9--vLady",
        "outputId": "84c5fe8a-da91-4f67-fe4b-d5fd61aa6181",
        "colab": {
          "base_uri": "https://localhost:8080/",
          "height": 104
        }
      },
      "source": [
        "M[:5,1:4:2]"
      ],
      "execution_count": null,
      "outputs": [
        {
          "output_type": "execute_result",
          "data": {
            "text/plain": [
              "array([[333008, 140037],\n",
              "       [176739, 326386],\n",
              "       [408830,  16119],\n",
              "       [174677, 301717],\n",
              "       [ 25063, 375059]])"
            ]
          },
          "metadata": {
            "tags": []
          },
          "execution_count": 21
        }
      ]
    },
    {
      "cell_type": "code",
      "metadata": {
        "id": "UmkOC4hEH7ax",
        "outputId": "94facdb3-e6c9-4182-f4f0-4da0df6ab4d9",
        "colab": {
          "base_uri": "https://localhost:8080/",
          "height": 34
        }
      },
      "source": [
        "np.average(M[:5,1:4:2])"
      ],
      "execution_count": null,
      "outputs": [
        {
          "output_type": "execute_result",
          "data": {
            "text/plain": [
              "227763.5"
            ]
          },
          "metadata": {
            "tags": []
          },
          "execution_count": 22
        }
      ]
    },
    {
      "cell_type": "markdown",
      "metadata": {
        "id": "HxNn3jCZH7a2"
      },
      "source": [
        "3. Update $M$ by Replacing all its even integers by 0."
      ]
    },
    {
      "cell_type": "code",
      "metadata": {
        "id": "262yXFdZH7a2",
        "outputId": "a5d8a6d1-722c-4509-f0a8-e4581b959e89",
        "colab": {
          "base_uri": "https://localhost:8080/",
          "height": 538
        }
      },
      "source": [
        "for i in range(0,30):\n",
        "  for j in range(0,8):\n",
        "    if M[i,j]%2==0:\n",
        "      M[i,j]=0\n",
        "M"
      ],
      "execution_count": null,
      "outputs": [
        {
          "output_type": "execute_result",
          "data": {
            "text/plain": [
              "array([[     0,      0, 202553, 140037,  81969,  63857,  42105,      0],\n",
              "       [481981, 176739,      0,      0, 110795, 394863,      0,  38317],\n",
              "       [     0,      0,      0,  16119, 407675, 231729, 265455, 109413],\n",
              "       [103399, 174677,      0, 301717,      0, 401101, 140473,      0],\n",
              "       [     0,  25063,      0, 375059, 406983, 208947, 115641, 296685],\n",
              "       [444899, 129585,      0,      0, 425041, 188411,      0, 141681],\n",
              "       [ 59641,      0,      0,   8973, 477425, 382803,      0,   3975],\n",
              "       [ 32213, 160603, 275485,      0, 246225,      0, 244097,      0],\n",
              "       [     0,      0,      0,  73335, 283013, 212813,  38175, 282399],\n",
              "       [318413, 337639,      0, 198049, 101115, 419547, 260219, 325793],\n",
              "       [148593,      0,      0,      0, 107007,  52547,      0,      0],\n",
              "       [     0, 262153,  11835, 449971,      0, 472031, 353049,      0],\n",
              "       [ 35455, 191553,      0,  29917, 187599,      0,      0,      0],\n",
              "       [     0, 220691,      0,      0, 474879,  15713, 279173, 161443],\n",
              "       [ 76851, 450401,      0,      0,      0, 384657,      0,      0],\n",
              "       [     0,      0,      0,      0,  17143, 308769,      0, 408259],\n",
              "       [379223, 322891,      0,      0,      0,  68095,      0,      0],\n",
              "       [     0,      0,      0,      0,      0,      0, 266487,      0],\n",
              "       [     0,      0, 434647,      0,      0,      0,      0,      0],\n",
              "       [     0, 486269,      0, 105055, 463911, 378799, 329053,  16793],\n",
              "       [     0,      0,      0, 144605, 105553,      0,      0,      0],\n",
              "       [     0,   5241,      0, 189451,      0,  12869, 482845,  16529],\n",
              "       [145955,      0, 427009,  70841, 318111, 199631,      0, 407887],\n",
              "       [     0, 214053, 295543, 339707, 199545,      0,      0, 337793],\n",
              "       [     0,      0,      0, 297633, 472409,      0,      0, 443487],\n",
              "       [464749,  75275,      0,      0,      0,      0,  75103,      0],\n",
              "       [404365,  67309,      0,  96483, 166099, 203867,      0, 211249],\n",
              "       [     0,      0, 130451, 419955, 109839, 332663, 101095,      0],\n",
              "       [108699, 436141,      0,      0,      0,   6967, 155851, 360687],\n",
              "       [252907,      0,  81509,      0, 471831,      0,      0,      0]])"
            ]
          },
          "metadata": {
            "tags": []
          },
          "execution_count": 23
        }
      ]
    },
    {
      "cell_type": "markdown",
      "metadata": {
        "id": "T45tZgafH7a9"
      },
      "source": [
        "# $$\\text{Exercise 2}$$\n",
        "\n",
        "Let $\\{ x_k\\}$ be a partition of $[a,b]$ such that $a=x_0<x_1<\\cdots<x_{N-1}<x_N=b$ and $H$ be the length of the $k$-th subinterval ($H = x_k - x_{k-1}$),\n",
        "then we have \n",
        "$$\\int_a^bf(x)dx \\approx \\sum_{k=1}^N \\frac{f(x_{k-1})+f(x_k)}{2}H = A$$\n",
        "\n",
        "\n",
        "Write a function named <b>Trap</b> that takes $a,b,N, f$ as inputs and return A"
      ]
    },
    {
      "cell_type": "code",
      "metadata": {
        "id": "xa3qIK-0Rl1s",
        "outputId": "7228e224-514e-456f-fed5-19091b28b7e8",
        "colab": {
          "base_uri": "https://localhost:8080/",
          "height": 34
        }
      },
      "source": [
        "def trapz(f,a,b,N=50):\n",
        "\n",
        "    x = np.linspace(a,b,N+1) # N+1 points make N subintervals\n",
        "    y = f(x)\n",
        "    y_right = y[1:] # right endpoints\n",
        "    y_left = y[:-1] # left endpoints\n",
        "    dx = (b - a)/N\n",
        "    A = (dx/2) * np.sum(y_right + y_left)\n",
        "    return A\n",
        "trapz(lambda x: x**2+2*x, 0,2)"
      ],
      "execution_count": null,
      "outputs": [
        {
          "output_type": "execute_result",
          "data": {
            "text/plain": [
              "6.667199999999999"
            ]
          },
          "metadata": {
            "tags": []
          },
          "execution_count": 50
        }
      ]
    },
    {
      "cell_type": "markdown",
      "metadata": {
        "id": "7Z1UTgM8H7a-"
      },
      "source": [
        "# $$\\text{Exercise 3}$$\n",
        "\n",
        "Let us consider the function $f$ defined on the set of integer as follows \n",
        "\n",
        "\\begin{equation}\n",
        "f(n) =\n",
        "  \\begin{cases}\n",
        "    n/2       & \\quad \\text{if } n \\text{ is even}\\\\\n",
        "    -(n)/3 +1  & \\quad \\text{if } n \\text{ is odd and divisible by 3}\\\\\n",
        "    (n+1)/2 +1 & \\quad \\text{else}\n",
        "  \\end{cases}\n",
        "\\end{equation}\n",
        "\n",
        "Write a python function named <b> ComptFunc </b> that takes two intergers $a$ and $b$ , $a<b$ and return  an array $flist$ of all  $f(n), n \\in nlist$ where $nlist$ is the list of all the integers in the interval $[a,b]$."
      ]
    },
    {
      "cell_type": "code",
      "metadata": {
        "id": "24wiN17YH7a-",
        "outputId": "ba5aa698-e13a-4d44-e116-c318b10251df",
        "colab": {
          "base_uri": "https://localhost:8080/",
          "height": 34
        }
      },
      "source": [
        "#a=input('Enter an integer value of a:')\n",
        "#b=input('Enter an integer value of b:')\n",
        "def ComptFunc(a,b):\n",
        "  flist=[]\n",
        "  if a > b:\n",
        "    return []\n",
        "  else:\n",
        "\n",
        "    nlist = np.linspace(a,b,a+b,dtype=int)\n",
        "    for n in nlist:\n",
        "      if n%2 == 0:\n",
        "        flist.append(n/2)\n",
        "      if n%2==1 and n%3==0:\n",
        "        flist.append(1-n/3)\n",
        "      else:\n",
        "        flist.append(1+(n+1)/2)\n",
        "    return flist\n",
        "\n",
        "\n",
        "ComptFunc(3,5)"
      ],
      "execution_count": null,
      "outputs": [
        {
          "output_type": "execute_result",
          "data": {
            "text/plain": [
              "[0.0, 0.0, 0.0, 0.0, 2.0, 3.5, 2.0, 3.5, 2.0, 3.5, 4.0]"
            ]
          },
          "metadata": {
            "tags": []
          },
          "execution_count": 49
        }
      ]
    },
    {
      "cell_type": "markdown",
      "metadata": {
        "id": "xh6Qj5fjH7bD"
      },
      "source": [
        "# $$\\text{Exercise 4}$$\n",
        "\n",
        "Write a python code to create the following numpy arrays\n",
        "$$\n",
        "A = \\begin{pmatrix}\n",
        "1 & 4 & 6 \\\\ \n",
        "0 & -3 & 2 \\\\ \n",
        "-2 & -2 & -2\t\n",
        "\\end{pmatrix}, \\quad\n",
        "B = \\begin{pmatrix}\n",
        "2 & -1 & 0 \\\\ \n",
        "2 & -1 & 0 \\\\ \n",
        "2 & -3 & 1\n",
        "\\end{pmatrix},\n",
        "$$\n",
        "and compute $A-B$, $4A + B$, $trace(A)$, $B^t$ the transpose of $B$, the determinant of $A$, $AB$ and $BA^t$"
      ]
    },
    {
      "cell_type": "code",
      "metadata": {
        "id": "_7nQ6YH4H7bF",
        "outputId": "087cf1ea-916e-4433-8c76-6acf9dd88200"
      },
      "source": [
        ""
      ],
      "execution_count": null,
      "outputs": [
        {
          "output_type": "display_data",
          "data": {
            "application/javascript": [
              "MathJax.Hub.Config({\n",
              "    TeX: { equationNumbers: { autoNumber: \"AMS\" } }\n",
              "});\n"
            ],
            "text/plain": [
              "<IPython.core.display.Javascript object>"
            ]
          },
          "metadata": {
            "tags": []
          }
        }
      ]
    },
    {
      "cell_type": "markdown",
      "metadata": {
        "id": "Nx5uhnyaH7bJ"
      },
      "source": [
        "# $$\\text{Exercise 5}$$\n",
        "\n",
        "Let us consider the sequence $U_n$ given by \n",
        "\\begin{equation}\\label{fib}\n",
        "\\left\\lbrace \n",
        "\\begin{array}{ll}\n",
        "U_0 &= 1,\\\\\n",
        "U_1 &= 2,\\\\\n",
        "U_{n} &=-3U_{n-1} +U_{n-2}, \\;\\; \\forall\\; n=2,3,4\\cdots\n",
        "\\end{array}\\right. \n",
        "\\end{equation}\n",
        "\n",
        "Write a python function named  <b>SeqTerms</b> that takes as input an integer $n,\\;\\;n\\geq 0$ and return an array of the first $n$ terms (i.e. $U_0, \\cdots, U_{n-1}$) of the sequence \\eqref{fib}."
      ]
    },
    {
      "cell_type": "code",
      "metadata": {
        "id": "azIP-MPmH7bK"
      },
      "source": [
        ""
      ],
      "execution_count": null,
      "outputs": []
    }
  ]
}